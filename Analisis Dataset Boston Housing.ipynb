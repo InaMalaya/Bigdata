{
 "cells": [
  {
   "cell_type": "markdown",
   "metadata": {},
   "source": [
    "# Final Project Big Data Analytics"
   ]
  },
  {
   "cell_type": "markdown",
   "metadata": {},
   "source": [
    "<i> Disusun oleh Mushofa Ina Malaya"
   ]
  },
  {
   "cell_type": "markdown",
   "metadata": {},
   "source": [
    "Project ini bertujuan untuk menganalisis data Boston Housing dan menerapkan beberapa model regresi serta memilih model mana yang terbaik."
   ]
  },
  {
   "cell_type": "markdown",
   "metadata": {},
   "source": [
    "#### Data : Boston Housing Dataset\n",
    "\n",
    "#### Data Set Information\n",
    "The dataset for this project originates from the UCI Machine Learning Repository. The Boston housing data was collected in 1978 and each of the 506 entries represent aggregated data about 13 features for homes from various suburbs in Boston, Massachusetts.\n",
    "\n",
    "The variable names are as follows:\n",
    "1. CRIM: per capita crime rate by town.\n",
    "2. ZN: proportion of residential land zoned for lots over 25,000 sq.ft.\n",
    "3. INDUS: proportion of nonretail business acres per town.\n",
    "4. CHAS: Charles River dummy variable (= 1 if tract bounds river; 0 otherwise).\n",
    "5. NOX: nitric oxides concentration (parts per 10 million).\n",
    "6. RM: average number of rooms per dwelling.\n",
    "7. AGE: proportion of owner-occupied units built prior to 1940.\n",
    "8. DIS: weighted distances to five Boston employment centers.\n",
    "9. RAD: index of accessibility to radial highways.\n",
    "10. TAX: full-value property-tax rate per $10,000.\n",
    "11. PTRATIO: pupil-teacher ratio by town.\n",
    "12. B: 1000(Bk – 0.63)^2 where Bk is the proportion of blacks by town.\n",
    "13. LSTAT: % lower status of the population.\n",
    "\n",
    "target => MEDV: Median value of owner-occupied homes in $1000s.\n",
    "\n",
    "#### Source URL\n",
    "https://www.kaggle.com/schirmerchad/bostonhoustingmlnd <br>\n",
    "https://github.com/udacity/machine-learning <br>\n",
    "https://archive.ics.uci.edu/ml/datasets/Housing"
   ]
  },
  {
   "cell_type": "markdown",
   "metadata": {},
   "source": [
    "## Analisis Dataset Boston Housing"
   ]
  },
  {
   "cell_type": "markdown",
   "metadata": {},
   "source": [
    "Pertama yang dilakukan adalah meload data dari file dataset housing.csv. Untuk memudahkan pengambilan data pada kolom, tidak lupa menampilkan nama-nama kolomnya."
   ]
  },
  {
   "cell_type": "code",
   "execution_count": 1,
   "metadata": {},
   "outputs": [
    {
     "name": "stdout",
     "output_type": "stream",
     "text": [
      "      crim    zn  indus  chas    nox     rm   age     dis  rad  tax  ptratio  \\\n",
      "0  0.00632  18.0   2.31     0  0.538  6.575  65.2  4.0900    1  296     15.3   \n",
      "1  0.02731   0.0   7.07     0  0.469  6.421  78.9  4.9671    2  242     17.8   \n",
      "2  0.02729   0.0   7.07     0  0.469  7.185  61.1  4.9671    2  242     17.8   \n",
      "3  0.03237   0.0   2.18     0  0.458  6.998  45.8  6.0622    3  222     18.7   \n",
      "4  0.06905   0.0   2.18     0  0.458  7.147  54.2  6.0622    3  222     18.7   \n",
      "\n",
      "        b  lstat  medv  \n",
      "0  396.90   4.98  24.0  \n",
      "1  396.90   9.14  21.6  \n",
      "2  392.83   4.03  34.7  \n",
      "3  394.63   2.94  33.4  \n",
      "4  396.90   5.33  36.2  \n"
     ]
    }
   ],
   "source": [
    "import pandas as pd # membaca dan menuliskan dataset menjadi dataframe\n",
    "\n",
    "data = pd.read_csv(\"https://baketku.s3.amazonaws.com/housing.csv\") # mengambil data dari file housing.csv\n",
    "\n",
    "print(data.head()) # menampilkan 5 data pertama"
   ]
  },
  {
   "cell_type": "markdown",
   "metadata": {},
   "source": [
    "Dari proses di atas, akhirnya dapat nama-nama field (kolom) dari dataset. Nama-nama kolom ini nanti penting ketika dalam proses komputasi terkait pengambilan data pada masing - masing kolom."
   ]
  },
  {
   "cell_type": "markdown",
   "metadata": {},
   "source": [
    "Sebelum menuju ke langkah selanjutnya, terlebih dahulu harus dilakukan langkah pre-processing (data cleaning dan data preparing). Melakukan pengecekan apakah di dalam dataset terdapat missing value atau tidak."
   ]
  },
  {
   "cell_type": "code",
   "execution_count": 2,
   "metadata": {},
   "outputs": [
    {
     "data": {
      "text/plain": [
       "crim       0\n",
       "zn         0\n",
       "indus      0\n",
       "chas       0\n",
       "nox        0\n",
       "rm         0\n",
       "age        0\n",
       "dis        0\n",
       "rad        0\n",
       "tax        0\n",
       "ptratio    0\n",
       "b          0\n",
       "lstat      0\n",
       "medv       0\n",
       "dtype: int64"
      ]
     },
     "execution_count": 2,
     "metadata": {},
     "output_type": "execute_result"
    }
   ],
   "source": [
    "data.isnull().sum() # mengecek missing value"
   ]
  },
  {
   "cell_type": "markdown",
   "metadata": {},
   "source": [
    "Nah, diperoleh hasil bahwa setiap kolom bernilai 0, artinya isnull = False atau tidak ada missing value dalam data"
   ]
  },
  {
   "cell_type": "markdown",
   "metadata": {},
   "source": [
    "### Scatter Plot untuk masing - masing features"
   ]
  },
  {
   "cell_type": "markdown",
   "metadata": {},
   "source": [
    "Next, kita buat scatter plot untuk masing - masing features berdasarkan dataset. Setiap feature (crim, zn, indus, chas, nox, rm, age, dis, rad, tax, ptratio, b dan lstat) diplotkan dengan target yaitu variable medv."
   ]
  },
  {
   "cell_type": "code",
   "execution_count": 3,
   "metadata": {},
   "outputs": [
    {
     "name": "stdout",
     "output_type": "stream",
     "text": [
      "          ===== scatter plot A =====\n"
     ]
    },
    {
     "data": {
      "text/plain": [
       "<Figure size 640x480 with 1 Axes>"
      ]
     },
     "metadata": {},
     "output_type": "display_data"
    },
    {
     "name": "stdout",
     "output_type": "stream",
     "text": [
      "          ===== scatter plot B =====\n"
     ]
    },
    {
     "data": {
      "text/plain": [
       "<Figure size 640x480 with 1 Axes>"
      ]
     },
     "metadata": {},
     "output_type": "display_data"
    },
    {
     "name": "stdout",
     "output_type": "stream",
     "text": [
      "          ===== scatter plot C =====\n"
     ]
    },
    {
     "data": {
      "text/plain": [
       "<Figure size 640x480 with 1 Axes>"
      ]
     },
     "metadata": {},
     "output_type": "display_data"
    },
    {
     "name": "stdout",
     "output_type": "stream",
     "text": [
      "          ===== scatter plot D =====\n"
     ]
    },
    {
     "data": {
      "text/plain": [
       "<Figure size 640x480 with 1 Axes>"
      ]
     },
     "metadata": {},
     "output_type": "display_data"
    },
    {
     "name": "stdout",
     "output_type": "stream",
     "text": [
      "          ===== scatter plot E =====\n"
     ]
    },
    {
     "data": {
      "text/plain": [
       "<Figure size 640x480 with 1 Axes>"
      ]
     },
     "metadata": {},
     "output_type": "display_data"
    },
    {
     "name": "stdout",
     "output_type": "stream",
     "text": [
      "          ===== scatter plot F =====\n"
     ]
    },
    {
     "data": {
      "text/plain": [
       "<Figure size 640x480 with 1 Axes>"
      ]
     },
     "metadata": {},
     "output_type": "display_data"
    },
    {
     "name": "stdout",
     "output_type": "stream",
     "text": [
      "          ===== scatter plot G =====\n"
     ]
    },
    {
     "data": {
      "text/plain": [
       "<Figure size 640x480 with 1 Axes>"
      ]
     },
     "metadata": {},
     "output_type": "display_data"
    },
    {
     "name": "stdout",
     "output_type": "stream",
     "text": [
      "          ===== scatter plot H =====\n"
     ]
    },
    {
     "data": {
      "text/plain": [
       "<Figure size 640x480 with 1 Axes>"
      ]
     },
     "metadata": {},
     "output_type": "display_data"
    },
    {
     "name": "stdout",
     "output_type": "stream",
     "text": [
      "          ===== scatter plot I =====\n"
     ]
    },
    {
     "data": {
      "text/plain": [
       "<Figure size 640x480 with 1 Axes>"
      ]
     },
     "metadata": {},
     "output_type": "display_data"
    },
    {
     "name": "stdout",
     "output_type": "stream",
     "text": [
      "          ===== scatter plot J =====\n"
     ]
    },
    {
     "data": {
      "text/plain": [
       "<Figure size 640x480 with 1 Axes>"
      ]
     },
     "metadata": {},
     "output_type": "display_data"
    },
    {
     "name": "stdout",
     "output_type": "stream",
     "text": [
      "          ===== scatter plot K =====\n"
     ]
    },
    {
     "data": {
      "text/plain": [
       "<Figure size 640x480 with 1 Axes>"
      ]
     },
     "metadata": {},
     "output_type": "display_data"
    },
    {
     "name": "stdout",
     "output_type": "stream",
     "text": [
      "          ===== scatter plot L =====\n"
     ]
    },
    {
     "data": {
      "text/plain": [
       "<Figure size 640x480 with 1 Axes>"
      ]
     },
     "metadata": {},
     "output_type": "display_data"
    },
    {
     "name": "stdout",
     "output_type": "stream",
     "text": [
      "          ===== scatter plot M =====\n"
     ]
    },
    {
     "data": {
      "text/plain": [
       "<Figure size 640x480 with 1 Axes>"
      ]
     },
     "metadata": {},
     "output_type": "display_data"
    }
   ],
   "source": [
    "import matplotlib.pyplot as plt # menampilkan scatter plot\n",
    "\n",
    "# scatter plot untuk masing-masing features\n",
    "print('          ===== scatter plot A =====')\n",
    "plt.scatter(data['crim'], data['medv']) \n",
    "plt.title(\"Grafik Hubungan CRIM\\nTerhadap MEDV\", fontsize = 15)\n",
    "plt.xlabel(\"CRIM\")\n",
    "plt.ylabel(\"MEDV\")\n",
    "plt.show()\n",
    "\n",
    "# scatter plot untuk masing-masing features\n",
    "print('          ===== scatter plot B =====')\n",
    "plt.scatter(data['zn'], data['medv']) \n",
    "plt.title(\"Grafik Hubungan ZN\\nTerhadap MEDV\", fontsize = 15)\n",
    "plt.xlabel(\"ZN\")\n",
    "plt.ylabel(\"MEDV\")\n",
    "plt.show()\n",
    "\n",
    "# scatter plot untuk masing-masing features\n",
    "print('          ===== scatter plot C =====')\n",
    "plt.scatter(data['indus'], data['medv']) \n",
    "plt.title(\"Grafik Hubungan INDUS\\nTerhadap MEDV\", fontsize = 15)\n",
    "plt.xlabel(\"INDUS\")\n",
    "plt.ylabel(\"MEDV\")\n",
    "plt.show()\n",
    "\n",
    "# scatter plot untuk masing-masing features\n",
    "print('          ===== scatter plot D =====')\n",
    "plt.scatter(data['chas'], data['medv']) \n",
    "plt.title(\"Grafik Hubungan CHAS\\nTerhadap MEDV\", fontsize = 15)\n",
    "plt.xlabel(\"CHAS\")\n",
    "plt.ylabel(\"MEDV\")\n",
    "plt.show()\n",
    "\n",
    "# scatter plot untuk masing-masing features\n",
    "print('          ===== scatter plot E =====')\n",
    "plt.scatter(data['nox'], data['medv']) \n",
    "plt.title(\"Grafik Hubungan NOX\\nTerhadap MEDV\", fontsize = 15)\n",
    "plt.xlabel(\"NOX\")\n",
    "plt.ylabel(\"MEDV\")\n",
    "plt.show()\n",
    "\n",
    "# scatter plot untuk masing-masing features\n",
    "print('          ===== scatter plot F =====')\n",
    "plt.scatter(data['rm'], data['medv']) \n",
    "plt.title(\"Grafik Hubungan RM\\nTerhadap MEDV\", fontsize = 15)\n",
    "plt.xlabel(\"RM\")\n",
    "plt.ylabel(\"MEDV\")\n",
    "plt.show()\n",
    "\n",
    "# scatter plot untuk masing-masing features\n",
    "print('          ===== scatter plot G =====')\n",
    "plt.scatter(data['age'], data['medv']) \n",
    "plt.title(\"Grafik Hubungan AGE\\nTerhadap MEDV\", fontsize = 15)\n",
    "plt.xlabel(\"AGE\")\n",
    "plt.ylabel(\"MEDV\")\n",
    "plt.show()\n",
    "\n",
    "# scatter plot untuk masing-masing features\n",
    "print('          ===== scatter plot H =====')\n",
    "plt.scatter(data['dis'], data['medv']) \n",
    "plt.title(\"Grafik Hubungan DIS\\nTerhadap MEDV\", fontsize = 15)\n",
    "plt.xlabel(\"DIS\")\n",
    "plt.ylabel(\"MEDV\")\n",
    "plt.show()\n",
    "\n",
    "# scatter plot untuk masing-masing features\n",
    "print('          ===== scatter plot I =====')\n",
    "plt.scatter(data['rad'], data['medv']) \n",
    "plt.title(\"Grafik Hubungan RAD\\nTerhadap MEDV\", fontsize = 15)\n",
    "plt.xlabel(\"RAD\")\n",
    "plt.ylabel(\"MEDV\")\n",
    "plt.show()\n",
    "\n",
    "# scatter plot untuk masing-masing features\n",
    "print('          ===== scatter plot J =====')\n",
    "plt.scatter(data['tax'], data['medv']) \n",
    "plt.title(\"Grafik Hubungan TAX\\nTerhadap MEDV\", fontsize = 15)\n",
    "plt.xlabel(\"TAX\")\n",
    "plt.ylabel(\"MEDV\")\n",
    "plt.show()\n",
    "\n",
    "# scatter plot untuk masing-masing features\n",
    "print('          ===== scatter plot K =====')\n",
    "plt.scatter(data['ptratio'], data['medv']) \n",
    "plt.title(\"Grafik Hubungan PTRATIO\\nTerhadap MEDV\", fontsize = 15)\n",
    "plt.xlabel(\"PTRATIO\")\n",
    "plt.ylabel(\"MEDV\")\n",
    "plt.show()\n",
    "\n",
    "# scatter plot untuk masing-masing features\n",
    "print('          ===== scatter plot L =====')\n",
    "plt.scatter(data['b'], data['medv']) \n",
    "plt.title(\"Grafik Hubungan B\\nTerhadap MEDV\", fontsize = 15)\n",
    "plt.xlabel(\"B\")\n",
    "plt.ylabel(\"MEDV\")\n",
    "plt.show()\n",
    "\n",
    "# scatter plot untuk masing-masing features\n",
    "print('          ===== scatter plot M =====')\n",
    "plt.scatter(data['lstat'], data['medv']) \n",
    "plt.title(\"Grafik Hubungan LSTAT\\nTerhadap MEDV\", fontsize = 15)\n",
    "plt.xlabel(\"LSTAT\")\n",
    "plt.ylabel(\"MEDV\")\n",
    "plt.show()\n",
    "\n"
   ]
  },
  {
   "cell_type": "markdown",
   "metadata": {},
   "source": [
    "Berdasarkan pola data dari beberapa scatter plot diatas, terdapat beberapa data yang tidak memiliki pola berarti. Misalnya pada scatter plot B, scatter plot D, scatter plot I, scatter plot J. Scatter plot tersebut memiliki pola vertical yang menunjukkan tidak ada asosiasi antara variable yang diplot,  <br>\n",
    "<b> Untuk 2 features yang memiliki dugaan kuat ada korelasi </b> yaitu pada <b> scatter plot F </b> dan <b> scatter plot M </b>, karena dari plot tersebut tampak ada pola linier yang menunjukkan bahwa kedua variable yang diobservasi bergerak atau berubah secara bersamaan (linier). \n"
   ]
  },
  {
   "cell_type": "markdown",
   "metadata": {},
   "source": [
    "### Statistik Deskriptif"
   ]
  },
  {
   "cell_type": "markdown",
   "metadata": {},
   "source": [
    "Untuk mengetahui 2 features mana yang mempunyai korelasi paling tinggi, mari buat statistik deskriptifnya (mean, standar deviasi, intercept, coefficients dan R²). Disini akan diambil contoh scatter plot D, F dan M"
   ]
  },
  {
   "cell_type": "code",
   "execution_count": 4,
   "metadata": {
    "scrolled": false
   },
   "outputs": [
    {
     "name": "stdout",
     "output_type": "stream",
     "text": [
      "===== Mean =====\n",
      "Mean CHAS  = 0.069\n",
      "Mean RM  = 6.285\n",
      "Mean LSTAT  = 12.653\n",
      "Mean MEDV    = 22.533\n",
      "\n",
      "===== Standar Deviasi =====\n",
      "StDev CHAS = 0.254\n",
      "StDev RM = 0.702\n",
      "StDev LSTAT = 7.134\n",
      "StDev MEDV   = 9.188\n"
     ]
    }
   ],
   "source": [
    "import numpy as np \n",
    "\n",
    "# mean data untuk variabel salary dan usia\n",
    "mean_chas = np.mean(data['chas'])\n",
    "mean_rm = np.mean(data['rm'])\n",
    "mean_lstat = np.mean(data['lstat'])\n",
    "mean_medv = np.mean(data['medv'])\n",
    "# standar deviasi untuk variabel salary dan usia\n",
    "stdev_chas = np.std(data['chas'])\n",
    "stdev_rm = np.std(data['rm'])\n",
    "stdev_lstat = np.std(data['lstat'])\n",
    "stdev_medv = np.std(data['medv'])\n",
    "\n",
    "# cetak\n",
    "print(\"===== Mean =====\")\n",
    "print(\"Mean CHAS  = %.3f\" %mean_chas)\n",
    "print(\"Mean RM  = %.3f\" %mean_rm)\n",
    "print(\"Mean LSTAT  = %.3f\" %mean_lstat)\n",
    "print(\"Mean MEDV    = %.3f\" %mean_medv)\n",
    "print(\"\\n===== Standar Deviasi =====\")\n",
    "print(\"StDev CHAS = %.3f\" %stdev_chas)\n",
    "print(\"StDev RM = %.3f\" %stdev_rm)\n",
    "print(\"StDev LSTAT = %.3f\" %stdev_lstat)\n",
    "print(\"StDev MEDV   = %.3f\" %stdev_medv)"
   ]
  },
  {
   "cell_type": "markdown",
   "metadata": {},
   "source": [
    "Standar deviasi adalah bentuk pengukuran yang digunakan untuk mengukur jumlah variasi atau sebaran sejumlah nilai data. Standar deviasi dalam statistik deskriptif ini banyak digunakan untuk menghitung variabilitas atau keragaman yang digunakan dalam statistik dan teori probabilitas. \n",
    "\n",
    "Nilai standar deviasi pada dasarnya menggambarkan besaran sebaran suatu kelompok data terhadap rata-ratanya atau dengan kata lain gambaran keheterogenan suatu kelompok data. Selain digunakan untuk analisis statistik, standar deviasi juga bisa digunakan untuk menentukan jumlah risiko dan volatilitas terkait dengan investasi tertentu."
   ]
  },
  {
   "cell_type": "markdown",
   "metadata": {},
   "source": [
    "Selanjutnya, membuat grafik graph untuk medv berdasarkan chas, rm dan lstat"
   ]
  },
  {
   "cell_type": "code",
   "execution_count": 5,
   "metadata": {},
   "outputs": [
    {
     "name": "stdout",
     "output_type": "stream",
     "text": [
      "medv  chas\n",
      "5.0   0        2\n",
      "5.6   0        1\n",
      "6.3   0        1\n",
      "7.0   0        2\n",
      "7.2   0        3\n",
      "7.4   0        1\n",
      "7.5   0        1\n",
      "8.1   0        1\n",
      "8.3   0        2\n",
      "8.4   0        2\n",
      "8.5   0        2\n",
      "8.7   0        1\n",
      "8.8   0        2\n",
      "9.5   0        1\n",
      "9.6   0        1\n",
      "9.7   0        1\n",
      "10.2  0        3\n",
      "10.4  0        2\n",
      "10.5  0        2\n",
      "10.8  0        1\n",
      "10.9  0        2\n",
      "11.0  0        1\n",
      "11.3  0        1\n",
      "11.5  0        1\n",
      "11.7  0        2\n",
      "11.8  0        2\n",
      "11.9  0        2\n",
      "12.0  0        1\n",
      "12.1  0        1\n",
      "12.3  0        1\n",
      "              ..\n",
      "35.4  0        2\n",
      "36.0  0        1\n",
      "36.1  0        1\n",
      "36.2  0        2\n",
      "36.4  0        1\n",
      "36.5  0        1\n",
      "37.0  0        1\n",
      "37.2  0        1\n",
      "37.3  0        1\n",
      "37.6  0        1\n",
      "37.9  0        1\n",
      "38.7  0        1\n",
      "39.8  0        1\n",
      "41.3  0        1\n",
      "41.7  0        1\n",
      "42.3  0        1\n",
      "42.8  0        1\n",
      "43.1  0        1\n",
      "43.5  0        1\n",
      "43.8  0        1\n",
      "44.0  0        1\n",
      "44.8  0        1\n",
      "45.4  0        1\n",
      "46.0  1        1\n",
      "46.7  0        1\n",
      "48.3  0        1\n",
      "48.5  0        1\n",
      "48.8  0        1\n",
      "50.0  0       10\n",
      "      1        6\n",
      "Name: chas, Length: 249, dtype: int64\n",
      "0.000000    201\n",
      "0.500000      8\n",
      "1.000000      8\n",
      "0.250000      5\n",
      "0.200000      4\n",
      "0.333333      1\n",
      "0.375000      1\n",
      "0.428571      1\n",
      "Name: chas, dtype: int64\n"
     ]
    },
    {
     "data": {
      "image/png": "[encoded data removed]",
      "text/plain": [
       "<Figure size 432x288 with 1 Axes>"
      ]
     },
     "metadata": {
      "needs_background": "light"
     },
     "output_type": "display_data"
    }
   ],
   "source": [
    "import numpy as np\n",
    "\n",
    "print(data.groupby('medv').chas.value_counts())\n",
    "print(data.groupby('medv').chas.mean().value_counts())\n",
    "\n",
    "data.groupby('medv').chas.mean().plot(kind=\"bar\")\n",
    "plt.xlabel('medv')\n",
    "plt.ylabel('Rata-rata CHAS')\n",
    "plt.title('Grafik graph untuk medv berdasarkan chas')\n",
    "plt.show()"
   ]
  },
  {
   "cell_type": "code",
   "execution_count": 6,
   "metadata": {},
   "outputs": [
    {
     "name": "stdout",
     "output_type": "stream",
     "text": [
      "medv  rm   \n",
      "5.0   5.453    1\n",
      "      5.683    1\n",
      "5.6   5.987    1\n",
      "6.3   5.852    1\n",
      "7.0   4.519    1\n",
      "      5.414    1\n",
      "7.2   5.277    1\n",
      "      6.343    1\n",
      "      6.434    1\n",
      "7.4   5.000    1\n",
      "7.5   6.782    1\n",
      "8.1   5.093    1\n",
      "8.3   5.349    1\n",
      "      5.896    1\n",
      "8.4   5.935    1\n",
      "      6.824    1\n",
      "8.5   5.531    1\n",
      "      5.747    1\n",
      "8.7   6.152    1\n",
      "8.8   4.368    1\n",
      "      5.957    1\n",
      "9.5   6.380    1\n",
      "9.6   6.461    1\n",
      "9.7   5.036    1\n",
      "10.2  4.880    1\n",
      "      5.837    1\n",
      "      6.223    1\n",
      "10.4  5.304    1\n",
      "      6.968    1\n",
      "10.5  4.652    1\n",
      "              ..\n",
      "41.7  8.337    1\n",
      "42.3  7.610    1\n",
      "42.8  8.259    1\n",
      "43.1  7.520    1\n",
      "43.5  7.470    1\n",
      "43.8  7.820    1\n",
      "44.0  7.454    1\n",
      "44.8  8.266    1\n",
      "45.4  7.820    1\n",
      "46.0  7.645    1\n",
      "46.7  7.686    1\n",
      "48.3  8.247    1\n",
      "48.5  7.853    1\n",
      "48.8  8.398    1\n",
      "50.0  4.970    1\n",
      "      5.875    1\n",
      "      6.216    1\n",
      "      6.683    1\n",
      "      7.016    1\n",
      "      7.489    1\n",
      "      7.802    1\n",
      "      7.831    1\n",
      "      7.875    1\n",
      "      7.923    1\n",
      "      7.929    1\n",
      "      8.034    1\n",
      "      8.297    1\n",
      "      8.375    1\n",
      "      8.704    1\n",
      "      8.725    1\n",
      "Name: rm, Length: 506, dtype: int64\n",
      "6.417000    2\n",
      "7.820000    2\n",
      "6.036500    2\n",
      "6.951000    2\n",
      "6.171200    1\n",
      "8.069000    1\n",
      "6.617000    1\n",
      "5.764400    1\n",
      "6.193000    1\n",
      "6.904000    1\n",
      "5.987000    1\n",
      "7.148000    1\n",
      "5.950000    1\n",
      "5.857667    1\n",
      "6.955000    1\n",
      "6.376000    1\n",
      "6.404000    1\n",
      "6.727000    1\n",
      "6.179250    1\n",
      "6.085500    1\n",
      "6.259000    1\n",
      "5.036000    1\n",
      "7.178000    1\n",
      "5.155000    1\n",
      "5.803667    1\n",
      "6.555000    1\n",
      "6.818000    1\n",
      "6.717000    1\n",
      "6.037600    1\n",
      "6.133333    1\n",
      "           ..\n",
      "6.049500    1\n",
      "6.782000    1\n",
      "6.018000    1\n",
      "7.484000    1\n",
      "7.241000    1\n",
      "6.122400    1\n",
      "6.016000    1\n",
      "6.136000    1\n",
      "5.676500    1\n",
      "5.646667    1\n",
      "6.431000    1\n",
      "6.543000    1\n",
      "6.144500    1\n",
      "5.896000    1\n",
      "5.933667    1\n",
      "6.212333    1\n",
      "6.544000    1\n",
      "6.324750    1\n",
      "5.946500    1\n",
      "5.968250    1\n",
      "5.896833    1\n",
      "8.398000    1\n",
      "6.243750    1\n",
      "5.162500    1\n",
      "5.910000    1\n",
      "7.691000    1\n",
      "7.108500    1\n",
      "6.358500    1\n",
      "5.856000    1\n",
      "5.000000    1\n",
      "Name: rm, Length: 225, dtype: int64\n"
     ]
    },
    {
     "data": {
      "image/png": "[encoded data removed]",
      "text/plain": [
       "<Figure size 432x288 with 1 Axes>"
      ]
     },
     "metadata": {
      "needs_background": "light"
     },
     "output_type": "display_data"
    }
   ],
   "source": [
    "import numpy as np\n",
    "\n",
    "print(data.groupby('medv').rm.value_counts())\n",
    "print(data.groupby('medv').rm.mean().value_counts())\n",
    "\n",
    "data.groupby('medv').rm.mean().plot(kind=\"bar\")\n",
    "plt.xlabel('medv')\n",
    "plt.ylabel('Rata-rata RM')\n",
    "plt.title('Grafik graph untuk medv berdasarkan rm')\n",
    "plt.show()"
   ]
  },
  {
   "cell_type": "code",
   "execution_count": 7,
   "metadata": {
    "scrolled": false
   },
   "outputs": [
    {
     "name": "stdout",
     "output_type": "stream",
     "text": [
      "medv  lstat\n",
      "5.0   22.98    1\n",
      "      30.59    1\n",
      "5.6   26.77    1\n",
      "6.3   29.97    1\n",
      "7.0   23.97    1\n",
      "      36.98    1\n",
      "7.2   20.32    1\n",
      "      29.05    1\n",
      "      30.81    1\n",
      "7.4   31.99    1\n",
      "7.5   25.79    1\n",
      "8.1   29.68    1\n",
      "8.3   19.77    1\n",
      "      24.39    1\n",
      "8.4   22.74    1\n",
      "      34.02    1\n",
      "8.5   19.92    1\n",
      "      27.38    1\n",
      "8.7   26.45    1\n",
      "8.8   20.62    1\n",
      "      30.63    1\n",
      "9.5   24.08    1\n",
      "9.6   18.05    1\n",
      "9.7   25.68    1\n",
      "10.2  15.69    1\n",
      "      21.78    1\n",
      "      30.62    1\n",
      "10.4  17.21    1\n",
      "      26.64    1\n",
      "10.5  22.11    1\n",
      "              ..\n",
      "41.7  2.47     1\n",
      "42.3  3.11     1\n",
      "42.8  3.54     1\n",
      "43.1  7.26     1\n",
      "43.5  3.16     1\n",
      "43.8  3.57     1\n",
      "44.0  3.11     1\n",
      "44.8  4.14     1\n",
      "45.4  3.76     1\n",
      "46.0  3.01     1\n",
      "46.7  3.92     1\n",
      "48.3  3.95     1\n",
      "48.5  3.81     1\n",
      "48.8  5.91     1\n",
      "50.0  1.73     1\n",
      "      1.92     1\n",
      "      2.88     1\n",
      "      2.96     1\n",
      "      2.97     1\n",
      "      3.16     1\n",
      "      3.26     1\n",
      "      3.32     1\n",
      "      3.70     1\n",
      "      3.73     1\n",
      "      4.45     1\n",
      "      4.63     1\n",
      "      5.12     1\n",
      "      7.44     1\n",
      "      8.88     1\n",
      "      9.53     1\n",
      "Name: lstat, Length: 505, dtype: int64\n",
      "17.280000    2\n",
      "8.520000     2\n",
      "3.110000     2\n",
      "14.806667    2\n",
      "7.790000     2\n",
      "13.270000    2\n",
      "7.930000     1\n",
      "13.445000    1\n",
      "13.712500    1\n",
      "9.756667     1\n",
      "8.610000     1\n",
      "8.340000     1\n",
      "4.450000     1\n",
      "17.800000    1\n",
      "4.705000     1\n",
      "19.320000    1\n",
      "32.610000    1\n",
      "7.648000     1\n",
      "10.505000    1\n",
      "5.685000     1\n",
      "4.820000     1\n",
      "4.700000     1\n",
      "6.580000     1\n",
      "15.390000    1\n",
      "22.220000    1\n",
      "23.780000    1\n",
      "6.720000     1\n",
      "12.592500    1\n",
      "4.030000     1\n",
      "25.680000    1\n",
      "            ..\n",
      "12.802500    1\n",
      "26.770000    1\n",
      "16.853333    1\n",
      "3.160000     1\n",
      "9.627500     1\n",
      "5.785000     1\n",
      "21.520000    1\n",
      "24.910000    1\n",
      "16.805000    1\n",
      "5.100000     1\n",
      "20.850000    1\n",
      "4.850000     1\n",
      "15.513333    1\n",
      "7.850000     1\n",
      "9.700000     1\n",
      "3.530000     1\n",
      "3.560000     1\n",
      "11.325000    1\n",
      "16.165000    1\n",
      "10.200000    1\n",
      "29.970000    1\n",
      "11.450000    1\n",
      "20.150000    1\n",
      "20.080000    1\n",
      "15.700000    1\n",
      "23.650000    1\n",
      "23.600000    1\n",
      "30.475000    1\n",
      "18.650000    1\n",
      "25.625000    1\n",
      "Name: lstat, Length: 223, dtype: int64\n"
     ]
    },
    {
     "data": {
      "image/png": "[encoded data removed]",
      "text/plain": [
       "<Figure size 432x288 with 1 Axes>"
      ]
     },
     "metadata": {
      "needs_background": "light"
     },
     "output_type": "display_data"
    }
   ],
   "source": [
    "import numpy as np\n",
    "\n",
    "print(data.groupby('medv').lstat.value_counts())\n",
    "print(data.groupby('medv').lstat.mean().value_counts())\n",
    "\n",
    "data.groupby('medv').lstat.mean().plot(kind=\"bar\")\n",
    "plt.xlabel('medv')\n",
    "plt.ylabel('Rata-rata lstat')\n",
    "plt.title('Grafik graph untuk medv berdasarkan lstat')\n",
    "plt.show()"
   ]
  },
  {
   "cell_type": "markdown",
   "metadata": {},
   "source": [
    "Dari 3 gambar grafik graph diatas dapat disimpulkan bahwa : \n",
    "1. Grafik graph untuk medv berdasarkan chas tidak memiliki pola berarti\n",
    "2. Grafik graph untuk medv berdasarkan rm memiliki pola linier yang menunjukkan bahwa kedua variable yang diobservasi bergerak atau berubah secara bersamaan (linier) \n",
    "3. Grafik graph untuk medv berdasarkan lstat juga memiliki pola linier yang menunjukkan bahwa kedua variable yang diobservasi bergerak atau berubah secara bersamaan (linier)"
   ]
  },
  {
   "cell_type": "markdown",
   "metadata": {},
   "source": [
    "### Analisis Model Regresi"
   ]
  },
  {
   "cell_type": "markdown",
   "metadata": {},
   "source": [
    "Next, mari cari nilai R2 dari beberapa 2 features diatas. Yang nantinya dapat dilakukan analisis mengenai model regresinya. \n"
   ]
  },
  {
   "cell_type": "code",
   "execution_count": 8,
   "metadata": {},
   "outputs": [
    {
     "name": "stdout",
     "output_type": "stream",
     "text": [
      "Intercept: 34.55\n",
      "Coefficients: -0.95\n",
      "R² Scatter Plot D: -1.70\n",
      "R² Scatter Plot F: -0.54\n",
      "R² Scatter Plot M: 0.54\n"
     ]
    }
   ],
   "source": [
    "import numpy as np # untuk melakukan perhitungan efisien\n",
    "from sklearn.linear_model import LinearRegression\n",
    "\n",
    "x1 = np.array(data['chas']).reshape((-1,1)) # Variabel bebas yang diubah dari column menjadi baris\n",
    "x2 = np.array(data['rm']).reshape((-1,1)) # Variabel bebas yang diubah dari column menjadi baris\n",
    "x3 = np.array(data['lstat']).reshape((-1,1)) # Variabel bebas yang diubah dari column menjadi baris\n",
    "\n",
    "y = np.array(data['medv']) # Variabel terikat\n",
    "\n",
    "model = LinearRegression()\n",
    "model.fit(x1,y)\n",
    "model.fit(x2,y)\n",
    "model.fit(x3,y)\n",
    "\n",
    "intercept = model.intercept_ # Menghitung Intersepsi (b0)\n",
    "coefficients = model.coef_[0] # Menghitung Koefisien (b1)\n",
    "r_sq1 = model.score(x1,y) # Menghitung hubungan variabel x dan y\n",
    "r_sq2 = model.score(x2,y) # Menghitung hubungan variabel x dan y\n",
    "r_sq3 = model.score(x3,y) # Menghitung hubungan variabel x dan y\n",
    "\n",
    "\n",
    "print('Intercept: {:0.2f}'.format(intercept))\n",
    "print('Coefficients: {:0.2f}'.format(coefficients))\n",
    "print('R\\u00b2 Scatter Plot D: {:0.2f}'.format(r_sq1))\n",
    "print('R\\u00b2 Scatter Plot F: {:0.2f}'.format(r_sq2))\n",
    "print('R\\u00b2 Scatter Plot M: {:0.2f}'.format(r_sq3))"
   ]
  },
  {
   "cell_type": "markdown",
   "metadata": {},
   "source": [
    "Diperoleh hasil nilai R2 tertinggi adalah R2 scatter plot M yaitu antara lstat dan medv.\n",
    "So... 2 features antara LSTAT dan MEDV yang akan dianalisis lebih lanjut."
   ]
  },
  {
   "cell_type": "markdown",
   "metadata": {},
   "source": [
    "Langkah selanjutnya yaitu menentukan model regresi apa yang sesuai dengan pola sebaran data dari scatter plot. Apakah model regresi linear atau nonlinear? <br>\n",
    "Dalam menentukan model regresi, dapat dilihat melalui nilai R2 nya. R2 merupakan ukuran kecocokan hasil estimasi sebuah model regresi linier dengan data yang dimodelkan. Apabila nilai R2 mendekati 1 maka dapat mengunakan model regresi linear."
   ]
  },
  {
   "cell_type": "markdown",
   "metadata": {},
   "source": [
    "Berdasarkan R2 dari scatter plot M = 0.54 yang diperkirakan merupakan R2 tertinggi dari setiap scatter plot dari dataset, maka dapat disimpulkan bahwa data ini kurang tepat jika menggunakan model regresi linear. \n"
   ]
  },
  {
   "cell_type": "markdown",
   "metadata": {},
   "source": [
    "Next, membuat model regresi nonlinear yang sesuai dengan pola sebaran data scatter plot.\n",
    "\n",
    "Model regresi nonlinear yang akan digunakan antara lain :\n",
    "1. Sigmoid\n",
    "2. Eksponensial\n",
    "3. Quadratic\n",
    "4. Qubic "
   ]
  },
  {
   "cell_type": "markdown",
   "metadata": {},
   "source": [
    "Sekarang, mari kita bangun model regresi nonlinear dan inisialisasi parameternya."
   ]
  },
  {
   "cell_type": "code",
   "execution_count": 9,
   "metadata": {},
   "outputs": [],
   "source": [
    "# pendefinian dari fungsi - fungsi \n",
    "def sigmoid(x, Beta_1, Beta_2):\n",
    "     y = 1 / (1 + np.exp(-Beta_1*(x-Beta_2)))\n",
    "     return y\n",
    "def eksponensial(x, Beta_1, Beta_2):\n",
    "     y = Beta_1*np.exp(Beta_2*x)\n",
    "     return y\n",
    "def Quadratic(x, Beta_1, Beta_2, Beta_3):\n",
    "     y = Beta_1+Beta_2*x**1+Beta_3*x**2\n",
    "     return y\n",
    "def Qubic(x, Beta_1, Beta_2, Beta_3, Beta_4):\n",
    "     y = Beta_1+Beta_2*x**1+Beta_3*x**2+Beta_4*x**3\n",
    "     return y\n",
    "\n",
    "x_data, y_data = (data[\"lstat\"].values, data[\"medv\"].values)"
   ]
  },
  {
   "cell_type": "markdown",
   "metadata": {},
   "source": [
    "Lalu kita normalkan dulu x dan y"
   ]
  },
  {
   "cell_type": "code",
   "execution_count": 10,
   "metadata": {},
   "outputs": [],
   "source": [
    "# Lets normalize our data\n",
    "xdata =x_data/max(x_data)\n",
    "ydata =y_data/max(y_data)"
   ]
  },
  {
   "cell_type": "markdown",
   "metadata": {},
   "source": [
    "Untuk menemukan parameter terbaik yaitu dengan menggunakan curve_fit. Curve_fit menggunakan kuadrat terkecil nonlinear agar sesuai dengan model regresi yang telah dibuat. \n",
    "\n",
    "popt adalah parameter yang dioptimalkan."
   ]
  },
  {
   "cell_type": "code",
   "execution_count": 11,
   "metadata": {},
   "outputs": [
    {
     "name": "stdout",
     "output_type": "stream",
     "text": [
      " beta_1 = 0.000003, beta_2 = 71716.806835\n",
      " beta_1 = 0.000003, beta_2 = 71716.806835\n",
      " beta_1 = 0.857240, beta_2 = -1.771544\n",
      " beta_1 = 0.972993, beta_2 = -2.935531\n"
     ]
    }
   ],
   "source": [
    "from scipy.optimize import curve_fit\n",
    "\n",
    "\n",
    "popt1, pcov1 = curve_fit(sigmoid, xdata, ydata, maxfev=100000)\n",
    "#print the final parameters\n",
    "print(\" beta_1 = %f, beta_2 = %f\" % (popt1[0], popt1[1]))\n",
    "\n",
    "popt2, pcov2 = curve_fit(eksponensial, xdata, ydata, maxfev=100000)\n",
    "#print the final parameters\n",
    "print(\" beta_1 = %f, beta_2 = %f\" % (popt1[0], popt1[1]))\n",
    "\n",
    "popt3, pcov3 = curve_fit(Quadratic, xdata, ydata, maxfev=100000)\n",
    "#print the final parameters\n",
    "print(\" beta_1 = %f, beta_2 = %f\" % (popt3[0], popt3[1]))\n",
    "\n",
    "from scipy.optimize import curve_fit\n",
    "popt4, pcov4 = curve_fit(Qubic, xdata, ydata, maxfev=100000)\n",
    "#print the final parameters\n",
    "print(\" beta_1 = %f, beta_2 = %f\" % (popt4[0], popt4[1]))\n",
    "\n"
   ]
  },
  {
   "cell_type": "markdown",
   "metadata": {},
   "source": [
    "Next, plotkan model regresi yang dihasilkan."
   ]
  },
  {
   "cell_type": "code",
   "execution_count": 12,
   "metadata": {
    "scrolled": true
   },
   "outputs": [
    {
     "data": {
      "image/png": "[encoded data removed]",
      "text/plain": [
       "<Figure size 576x360 with 1 Axes>"
      ]
     },
     "metadata": {
      "needs_background": "light"
     },
     "output_type": "display_data"
    },
    {
     "data": {
      "image/png": "[encoded data removed]",
      "text/plain": [
       "<Figure size 576x360 with 1 Axes>"
      ]
     },
     "metadata": {
      "needs_background": "light"
     },
     "output_type": "display_data"
    },
    {
     "data": {
      "image/png": "[encoded data removed]",
      "text/plain": [
       "<Figure size 576x360 with 1 Axes>"
      ]
     },
     "metadata": {
      "needs_background": "light"
     },
     "output_type": "display_data"
    },
    {
     "data": {
      "image/png": "[encoded data removed]",
      "text/plain": [
       "<Figure size 576x360 with 1 Axes>"
      ]
     },
     "metadata": {
      "needs_background": "light"
     },
     "output_type": "display_data"
    }
   ],
   "source": [
    "x = np.arange(0, 10, 1)\n",
    "x = x/max(x)\n",
    "plt.figure(figsize=(8,5))\n",
    "y1 = sigmoid(x, *popt1)\n",
    "plt.plot(xdata, ydata, 'ro', label='data')\n",
    "plt.plot(x,y1, linewidth=3.0, label='fit')\n",
    "plt.legend(loc='best')\n",
    "plt.ylabel('lstat')\n",
    "plt.xlabel('medv')\n",
    "plt.show()\n",
    "\n",
    "x = np.arange(0, 10, 1)\n",
    "x = x/max(x)\n",
    "plt.figure(figsize=(8,5))\n",
    "y2 = eksponensial(x, *popt2)\n",
    "plt.plot(xdata, ydata, 'ro', label='data')\n",
    "plt.plot(x,y2, linewidth=3.0, label='fit')\n",
    "plt.legend(loc='best')\n",
    "plt.ylabel('lstat')\n",
    "plt.xlabel('medv')\n",
    "plt.show()\n",
    "\n",
    "x = np.arange(0, 10, 1)\n",
    "x = x/max(x)\n",
    "plt.figure(figsize=(8,5))\n",
    "y3 = Quadratic(x, *popt3)\n",
    "plt.plot(xdata, ydata, 'ro', label='data')\n",
    "plt.plot(x,y3, linewidth=3.0, label='fit')\n",
    "plt.legend(loc='best')\n",
    "plt.ylabel('lstat')\n",
    "plt.xlabel('medv')\n",
    "plt.show()\n",
    "\n",
    "x = np.arange(0, 10, 1)\n",
    "x = x/max(x)\n",
    "plt.figure(figsize=(8,5))\n",
    "y4 = Qubic(x, *popt4)\n",
    "plt.plot(xdata, ydata, 'ro', label='data')\n",
    "plt.plot(x,y4, linewidth=3.0, label='fit')\n",
    "plt.legend(loc='best')\n",
    "plt.ylabel('lstat')\n",
    "plt.xlabel('medv')\n",
    "plt.show()\n"
   ]
  },
  {
   "cell_type": "markdown",
   "metadata": {},
   "source": [
    "Dari beberapa gambar diatas, masih belum dapat diketahui model mana yang paling cocok untuk digunakan. Oleh karena itu, perlu menghitung keakurasian dari model yang telah dibuat. "
   ]
  },
  {
   "cell_type": "code",
   "execution_count": 13,
   "metadata": {
    "scrolled": true
   },
   "outputs": [
    {
     "name": "stdout",
     "output_type": "stream",
     "text": [
      "===== Sigmoid =====\n",
      "Mean absolute error: 0.12\n",
      "Residual sum of squares (MSE): 0.03\n",
      "R2-score: -1811881026556.61\n",
      "===== Eksponensial =====\n",
      "Mean absolute error: 0.08\n",
      "Residual sum of squares (MSE): 0.01\n",
      "R2-score: 0.58\n",
      "===== Quadratic =====\n",
      "Mean absolute error: 0.08\n",
      "Residual sum of squares (MSE): 0.01\n",
      "R2-score: 0.57\n",
      "===== Qubic =====\n",
      "Mean absolute error: 0.07\n",
      "Residual sum of squares (MSE): 0.01\n",
      "R2-score: 0.58\n"
     ]
    }
   ],
   "source": [
    "# split data into train/test\n",
    "msk = np.random.rand(len(data)) < 0.8\n",
    "train_x = xdata[msk]\n",
    "test_x = xdata[~msk]\n",
    "train_y = ydata[msk]\n",
    "test_y = ydata[~msk]\n",
    "\n",
    "# build the model using train set\n",
    "popt1, pcov1 = curve_fit(sigmoid, train_x, train_y, maxfev=100000)\n",
    "popt2, pcov2 = curve_fit(eksponensial, train_x, train_y, maxfev=100000)\n",
    "popt3, pcov3 = curve_fit(Quadratic, train_x, train_y, maxfev=100000)\n",
    "popt4, pcov4 = curve_fit(Qubic, train_x, train_y, maxfev=100000)\n",
    "\n",
    "\n",
    "# predict using test set\n",
    "y_hat1 = sigmoid(test_x, *popt1)\n",
    "y_hat2 = eksponensial(test_x, *popt2)\n",
    "y_hat3 = Quadratic(test_x, *popt3)\n",
    "y_hat4 = Qubic(test_x, *popt4)\n",
    "\n",
    "\n",
    "# evaluation\n",
    "print(\"===== Sigmoid =====\")\n",
    "print(\"Mean absolute error: %.2f\" % np.mean(np.absolute(y_hat1 - test_y)))\n",
    "print(\"Residual sum of squares (MSE): %.2f\" % np.mean((y_hat1 - test_y) ** 2))\n",
    "from sklearn.metrics import r2_score\n",
    "print(\"R2-score: %.2f\" % r2_score(y_hat1 , test_y) )\n",
    "\n",
    "# evaluation\n",
    "print(\"===== Eksponensial =====\")\n",
    "print(\"Mean absolute error: %.2f\" % np.mean(np.absolute(y_hat2 - test_y)))\n",
    "print(\"Residual sum of squares (MSE): %.2f\" % np.mean((y_hat2 - test_y) ** 2))\n",
    "from sklearn.metrics import r2_score\n",
    "print(\"R2-score: %.2f\" % r2_score(y_hat2 , test_y) )\n",
    "\n",
    "# evaluation\n",
    "print(\"===== Quadratic =====\")\n",
    "print(\"Mean absolute error: %.2f\" % np.mean(np.absolute(y_hat3 - test_y)))\n",
    "print(\"Residual sum of squares (MSE): %.2f\" % np.mean((y_hat3 - test_y) ** 2))\n",
    "from sklearn.metrics import r2_score\n",
    "print(\"R2-score: %.2f\" % r2_score(y_hat3 , test_y) )\n",
    "\n",
    "# evaluation\n",
    "print(\"===== Qubic =====\")\n",
    "print(\"Mean absolute error: %.2f\" % np.mean(np.absolute(y_hat4 - test_y)))\n",
    "print(\"Residual sum of squares (MSE): %.2f\" % np.mean((y_hat4 - test_y) ** 2))\n",
    "from sklearn.metrics import r2_score\n",
    "print(\"R2-score: %.2f\" % r2_score(y_hat4 , test_y) )\n",
    "\n"
   ]
  },
  {
   "cell_type": "markdown",
   "metadata": {},
   "source": [
    "Nah... diperoleh nilai R2 dari beberapa model regresi. Untuk menentukan model mana yang paling sesuai yaitu dilihat nilai R2 yang paling tinggi, yaitu model <b> Qubic </b>"
   ]
  },
  {
   "cell_type": "markdown",
   "metadata": {},
   "source": [
    "### Analisis Clustering"
   ]
  },
  {
   "cell_type": "markdown",
   "metadata": {},
   "source": [
    "Dari dataset diatas dapat kita analisis <b> K-Means Clustering </b>. Tujuannya untuk menemukan grup dalam data, dengan jumlah grup yang diwakili oleh variable k. Variable k sendiri adalah jumlah cluster yang kita inginkan."
   ]
  },
  {
   "cell_type": "markdown",
   "metadata": {},
   "source": [
    "First... menentukan variabel yang diklusterkan. Disini menggunakan variable madv pada sumbu X dan variabel lstat pada sumbu Y "
   ]
  },
  {
   "cell_type": "code",
   "execution_count": 14,
   "metadata": {},
   "outputs": [
    {
     "data": {
      "text/html": [
       "<div>\n",
       "<style scoped>\n",
       "    .dataframe tbody tr th:only-of-type {\n",
       "        vertical-align: middle;\n",
       "    }\n",
       "\n",
       "    .dataframe tbody tr th {\n",
       "        vertical-align: top;\n",
       "    }\n",
       "\n",
       "    .dataframe thead th {\n",
       "        text-align: right;\n",
       "    }\n",
       "</style>\n",
       "<table border=\"1\" class=\"dataframe\">\n",
       "  <thead>\n",
       "    <tr style=\"text-align: right;\">\n",
       "      <th></th>\n",
       "      <th>lstat</th>\n",
       "      <th>medv</th>\n",
       "    </tr>\n",
       "  </thead>\n",
       "  <tbody>\n",
       "    <tr>\n",
       "      <th>0</th>\n",
       "      <td>4.98</td>\n",
       "      <td>24.0</td>\n",
       "    </tr>\n",
       "    <tr>\n",
       "      <th>1</th>\n",
       "      <td>9.14</td>\n",
       "      <td>21.6</td>\n",
       "    </tr>\n",
       "    <tr>\n",
       "      <th>2</th>\n",
       "      <td>4.03</td>\n",
       "      <td>34.7</td>\n",
       "    </tr>\n",
       "    <tr>\n",
       "      <th>3</th>\n",
       "      <td>2.94</td>\n",
       "      <td>33.4</td>\n",
       "    </tr>\n",
       "    <tr>\n",
       "      <th>4</th>\n",
       "      <td>5.33</td>\n",
       "      <td>36.2</td>\n",
       "    </tr>\n",
       "  </tbody>\n",
       "</table>\n",
       "</div>"
      ],
      "text/plain": [
       "   lstat  medv\n",
       "0   4.98  24.0\n",
       "1   9.14  21.6\n",
       "2   4.03  34.7\n",
       "3   2.94  33.4\n",
       "4   5.33  36.2"
      ]
     },
     "execution_count": 14,
     "metadata": {},
     "output_type": "execute_result"
    }
   ],
   "source": [
    "# Menentukan variabel yang akan di klusterkan \n",
    "medv_x = data.iloc[:, 12:14]\n",
    "medv_x.head()"
   ]
  },
  {
   "cell_type": "markdown",
   "metadata": {},
   "source": [
    "Selanjutnya yaitu memvisualisasikan persebaran data."
   ]
  },
  {
   "cell_type": "code",
   "execution_count": 15,
   "metadata": {
    "scrolled": true
   },
   "outputs": [
    {
     "data": {
      "image/png": "[encoded data removed]",
      "text/plain": [
       "<Figure size 432x288 with 1 Axes>"
      ]
     },
     "metadata": {
      "needs_background": "light"
     },
     "output_type": "display_data"
    }
   ],
   "source": [
    "# Memvisualkan persebaran data \n",
    "plt.scatter(data['lstat'], data['medv'], s =10, c = \"c\", marker = \"o\", alpha = 1)\n",
    "plt.ylabel('lstat')\n",
    "plt.xlabel('medv')\n",
    "plt.show()"
   ]
  },
  {
   "cell_type": "markdown",
   "metadata": {},
   "source": [
    "Lalu menentukan nilai k. Namun sebelum itu, harus mengubah variable data frame menjadi array terlebih dahulu"
   ]
  },
  {
   "cell_type": "code",
   "execution_count": 16,
   "metadata": {},
   "outputs": [
    {
     "name": "stdout",
     "output_type": "stream",
     "text": [
      "[[ 4.98 24.  ]\n",
      " [ 9.14 21.6 ]\n",
      " [ 4.03 34.7 ]\n",
      " ...\n",
      " [ 5.64 23.9 ]\n",
      " [ 6.48 22.  ]\n",
      " [ 7.88 11.9 ]]\n"
     ]
    }
   ],
   "source": [
    "#Mengubah Variabel Data Frame Menjadi Array \n",
    "x_array =  np.array(medv_x)\n",
    "print(x_array)"
   ]
  },
  {
   "cell_type": "markdown",
   "metadata": {},
   "source": [
    "Next, menstandarkan kembali ukuran variable, agar data dapat kembali seperti jenis data diawal sebelum di array kan"
   ]
  },
  {
   "cell_type": "code",
   "execution_count": 17,
   "metadata": {
    "scrolled": true
   },
   "outputs": [
    {
     "data": {
      "text/plain": [
       "array([[0.08967991, 0.42222222],\n",
       "       [0.2044702 , 0.36888889],\n",
       "       [0.06346578, 0.66      ],\n",
       "       ...,\n",
       "       [0.10789183, 0.42      ],\n",
       "       [0.13107064, 0.37777778],\n",
       "       [0.16970199, 0.15333333]])"
      ]
     },
     "execution_count": 17,
     "metadata": {},
     "output_type": "execute_result"
    }
   ],
   "source": [
    "# Menstandarkan Ukuran Variabel \n",
    "from sklearn.cluster import KMeans\n",
    "from sklearn.preprocessing import MinMaxScaler\n",
    "\n",
    "scaler = MinMaxScaler()\n",
    "x_scaled = scaler.fit_transform(x_array)\n",
    "x_scaled"
   ]
  },
  {
   "cell_type": "markdown",
   "metadata": {},
   "source": [
    "Langkah selanjutnya yaitu menentukan nilai k.\n",
    "Dalam hal ini, nilai k (n_cluster) atau nilai arbitrer bebas ditentukan. Dikonfigurasi dan ditentukan nilai K sebesar 3 cluster. Selain itu juga menetukan kluster dari data yang telah di standarkan ."
   ]
  },
  {
   "cell_type": "code",
   "execution_count": 18,
   "metadata": {},
   "outputs": [
    {
     "data": {
      "text/plain": [
       "KMeans(algorithm='auto', copy_x=True, init='k-means++', max_iter=300,\n",
       "    n_clusters=3, n_init=10, n_jobs=None, precompute_distances='auto',\n",
       "    random_state=123, tol=0.0001, verbose=0)"
      ]
     },
     "execution_count": 18,
     "metadata": {},
     "output_type": "execute_result"
    }
   ],
   "source": [
    "# Menentukan dan mengkonfigurasi fungsi kmeans \n",
    "kmeans = KMeans(n_clusters = 3, random_state=123)\n",
    "# Menentukan kluster dari data ---\n",
    "kmeans.fit(x_scaled)"
   ]
  },
  {
   "cell_type": "markdown",
   "metadata": {},
   "source": [
    "Setelah itu memvisualisasikan cluster.\n",
    "Untuk memvisualisasikan cluster, harus menampilkan centroid terlebih dahulu."
   ]
  },
  {
   "cell_type": "code",
   "execution_count": 19,
   "metadata": {
    "scrolled": true
   },
   "outputs": [
    {
     "name": "stdout",
     "output_type": "stream",
     "text": [
      "[[0.08618152 0.74257982]\n",
      " [0.55818297 0.19006441]\n",
      " [0.2419428  0.37833926]]\n"
     ]
    }
   ],
   "source": [
    "# Menampilkan pusat cluster \n",
    "print(kmeans.cluster_centers_)"
   ]
  },
  {
   "cell_type": "markdown",
   "metadata": {},
   "source": [
    "Baru kemudian menampilkan hasil cluster dan menambah kolom data frame"
   ]
  },
  {
   "cell_type": "code",
   "execution_count": 20,
   "metadata": {},
   "outputs": [
    {
     "name": "stdout",
     "output_type": "stream",
     "text": [
      "[2 2 0 0 0 2 2 2 1 1 1 2 2 2 2 2 2 2 2 2 1 2 1 1 1 1 2 1 2 2 1 2 1 1 1 2 2\n",
      " 2 2 0 0 2 2 2 2 2 2 1 1 2 2 2 2 2 2 0 2 0 2 2 2 2 2 2 0 2 2 2 2 2 2 2 2 2\n",
      " 2 2 2 2 2 2 2 2 2 2 2 2 2 2 2 2 2 2 2 2 2 2 2 0 0 0 2 2 2 2 2 2 1 2 2 2 2\n",
      " 2 2 1 2 2 2 2 2 2 2 2 1 1 1 2 1 1 2 1 2 2 2 2 1 1 1 2 1 1 1 1 1 1 1 1 1 1\n",
      " 1 1 2 2 2 2 2 2 1 0 2 2 2 0 0 0 2 2 0 2 2 2 2 2 2 2 2 0 2 2 0 0 0 0 0 0 2\n",
      " 2 0 0 0 0 0 0 0 0 0 0 0 2 0 0 0 2 0 0 0 2 2 2 2 1 2 1 2 2 1 2 2 2 2 2 2 1\n",
      " 2 2 0 0 0 0 0 0 2 0 0 0 2 2 2 0 2 2 2 2 2 2 2 1 2 2 2 2 2 2 0 0 2 2 0 0 0\n",
      " 0 0 0 0 2 0 2 2 0 0 2 2 2 2 0 0 0 0 0 2 0 0 0 0 0 0 2 2 2 2 2 0 0 2 2 2 2\n",
      " 2 2 2 0 2 2 2 0 0 2 0 2 2 2 2 2 2 2 2 2 1 2 2 2 2 2 2 2 2 2 2 2 2 2 2 2 2\n",
      " 2 2 2 2 2 2 2 2 0 2 2 0 2 2 2 2 2 2 2 2 0 2 2 1 2 2 2 2 2 2 2 2 2 2 2 0 0\n",
      " 0 0 0 1 1 2 1 1 1 1 1 1 1 1 1 1 1 1 1 1 1 2 1 1 1 1 1 1 1 1 1 1 1 1 1 1 1\n",
      " 2 1 2 2 1 1 1 1 1 1 1 1 1 2 1 2 1 1 1 1 1 1 1 1 1 2 1 1 1 1 1 1 1 1 1 1 1\n",
      " 1 1 1 1 1 1 1 1 1 1 1 1 1 1 1 2 1 2 2 2 2 2 1 1 1 2 2 2 2 2 1 1 1 1 1 2 2\n",
      " 2 2 2 2 2 2 2 1 1 1 1 2 2 2 2 1 2 2 2 2 2 2 2 2 2]\n"
     ]
    }
   ],
   "source": [
    "# Menampilkan Hasil Kluster \n",
    "print(kmeans.labels_)\n",
    "# Menambahkan Kolom \"kluster\" Dalam Data Frame Driver \n",
    "data[\"kluster\"] = kmeans.labels_"
   ]
  },
  {
   "cell_type": "markdown",
   "metadata": {},
   "source": [
    "Langkah terakhir mari visualisasikan hasil clusternya."
   ]
  },
  {
   "cell_type": "code",
   "execution_count": 21,
   "metadata": {},
   "outputs": [
    {
     "data": {
      "image/png": "[encoded data removed]",
      "text/plain": [
       "<Figure size 432x288 with 2 Axes>"
      ]
     },
     "metadata": {
      "needs_background": "light"
     },
     "output_type": "display_data"
    }
   ],
   "source": [
    "# Memvisualkan hasil kluster ---\n",
    "output = plt.scatter(x_scaled[:,0], x_scaled[:,1], s = 100, c = data.kluster, marker = \"o\", alpha = 1, )\n",
    "centers = kmeans.cluster_centers_\n",
    "plt.scatter(centers[:,0], centers[:,1], c='red', s=200, alpha=1 , marker=\"s\");\n",
    "plt.title(\"Hasil Klustering K-Means\")\n",
    "plt.ylabel('lstat')\n",
    "plt.xlabel('medv')\n",
    "plt.colorbar (output)\n",
    "plt.show()"
   ]
  },
  {
   "cell_type": "markdown",
   "metadata": {},
   "source": [
    "Dari gambar diatas, dapat dilihat bahwa antara LSTAT dan MEDV telah <b> tercluster menjadi 3 </b>"
   ]
  },
  {
   "cell_type": "code",
   "execution_count": null,
   "metadata": {},
   "outputs": [],
   "source": []
  }
 ],
 "metadata": {
  "kernelspec": {
   "display_name": "Python 3",
   "language": "python",
   "name": "python3"
  },
  "language_info": {
   "codemirror_mode": {
    "name": "ipython",
    "version": 3
   },
   "file_extension": ".py",
   "mimetype": "text/x-python",
   "name": "python",
   "nbconvert_exporter": "python",
   "pygments_lexer": "ipython3",
   "version": "3.7.3"
  }
 },
 "nbformat": 4,
 "nbformat_minor": 2
}
